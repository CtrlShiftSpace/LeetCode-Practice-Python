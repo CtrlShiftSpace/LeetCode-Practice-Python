{
 "cells": [
  {
   "cell_type": "markdown",
   "id": "5f6fdb5d",
   "metadata": {},
   "source": [
    "**[Question]**\n",
    "\n",
    "Given two strings s and p, return an array of all the start indices of p's anagrams in s. You may return the answer in any order.\n",
    "\n",
    "An Anagram is a word or phrase formed by rearranging the letters of a different word or phrase, typically using all the original letters exactly once.\n",
    "\n",
    "Example 1:\n",
    "```\n",
    "Input: s = \"cbaebabacd\", p = \"abc\"\n",
    "Output: [0,6]\n",
    "Explanation:\n",
    "The substring with start index = 0 is \"cba\", which is an anagram of \"abc\".\n",
    "The substring with start index = 6 is \"bac\", which is an anagram of \"abc\".\n",
    "\n",
    "```\n",
    "\n",
    "Example 2:\n",
    "```\n",
    "Input: s = \"abab\", p = \"ab\"\n",
    "Output: [0,1,2]\n",
    "Explanation:\n",
    "The substring with start index = 0 is \"ab\", which is an anagram of \"ab\".\n",
    "The substring with start index = 1 is \"ba\", which is an anagram of \"ab\".\n",
    "The substring with start index = 2 is \"ab\", which is an anagram of \"ab\".\n",
    "```"
   ]
  },
  {
   "cell_type": "code",
   "execution_count": 2,
   "id": "2da6607c",
   "metadata": {},
   "outputs": [],
   "source": [
    "# 題目預設library\n",
    "from typing import List"
   ]
  },
  {
   "cell_type": "markdown",
   "id": "e690a5cb",
   "metadata": {},
   "source": [
    "**[Solution]**"
   ]
  },
  {
   "cell_type": "markdown",
   "id": "a856b15d",
   "metadata": {},
   "source": [
    "**嘗試解法1**\n",
    "\n",
    "\n",
    "`Time complexity: O(N^2LOG(N))`\n",
    "\n",
    "`Space complexity: O(N)`\n",
    "\n",
    "submit後結果為Accepted，但Runtime 時間過長，要再進行優化"
   ]
  },
  {
   "cell_type": "code",
   "execution_count": 2,
   "id": "45a11978",
   "metadata": {},
   "outputs": [
    {
     "name": "stdout",
     "output_type": "stream",
     "text": [
      "Input: s = \"cbaebabacd\", p = \"abc\"\n",
      "Output: [0, 6]\n",
      "Expected: [0,6]\n",
      "\n",
      "Input: s = \"abab\", p = \"ab\"\n",
      "Output: [0, 1, 2]\n",
      "Expected: [0,1,2]\n"
     ]
    }
   ],
   "source": [
    "class Solution:\n",
    "    def findAnagrams(self, s: str, p: str) -> List[int]:\n",
    "        s_len = len(s)\n",
    "        p_len = len(p)\n",
    "\n",
    "        fit = []\n",
    "        if s_len - p_len < 0:\n",
    "            return fit\n",
    "\n",
    "        p_list = list(p)\n",
    "        s_list = list(s)\n",
    "        p_list.sort()\n",
    "        \n",
    "        \n",
    "        for i in range(s_len):\n",
    "            if (i + p_len) <= s_len:\n",
    "                s_pick = s_list[i:i+p_len]\n",
    "                s_pick.sort()\n",
    "\n",
    "                if p_list == s_pick:\n",
    "                    fit.append(i)\n",
    "\n",
    "        return fit\n",
    "    \n",
    "# for case output\n",
    "s = Solution()\n",
    "\n",
    "# Case 1 Expected: [0,6]\n",
    "print('Input: s = \"cbaebabacd\", p = \"abc\"')\n",
    "print('Output:', s.findAnagrams(\"cbaebabacd\", \"abc\"))\n",
    "print('Expected:', \"[0,6]\")\n",
    "print()\n",
    "\n",
    "# Case 2 Expected: [0,1,2]\n",
    "print('Input: s = \"abab\", p = \"ab\"')\n",
    "print('Output:', s.findAnagrams(\"abab\", \"ab\"))\n",
    "print('Expected:', \"[0,1,2]\")"
   ]
  },
  {
   "cell_type": "markdown",
   "id": "5ac4a54b",
   "metadata": {},
   "source": [
    "**嘗試解法2**\n",
    "\n",
    "`Time complexity: O(N))`\n",
    "\n",
    "`Space complexity: O(1)`\n",
    "\n",
    "使用SLIDING WINDOW方式處理，結果為Accepted"
   ]
  },
  {
   "cell_type": "code",
   "execution_count": 3,
   "id": "13f835b2",
   "metadata": {},
   "outputs": [
    {
     "name": "stdout",
     "output_type": "stream",
     "text": [
      "Input: s = \"cbaebabacd\", p = \"abc\"\n",
      "Output: [0, 6]\n",
      "Expected: [0,6]\n",
      "\n",
      "Input: s = \"abab\", p = \"ab\"\n",
      "Output: [0, 1, 2]\n",
      "Expected: [0,1,2]\n"
     ]
    }
   ],
   "source": [
    "class Solution:\n",
    "    def findAnagrams(self, s: str, p: str) -> List[int]:\n",
    "        # 計算傳入兩字串長度\n",
    "        s_len = len(s)\n",
    "        p_len = len(p)\n",
    "        # 用來記錄出現字串(a-z)頻率\n",
    "        freq = {}\n",
    "        # 先將兩字串以set方式取出不重複字元，以key=\"字元\"方式儲存dict，value設定為0\n",
    "        for word in set(list(s + p)):\n",
    "            freq[word] = 0\n",
    "\n",
    "        # 將目標要查詢的字串依序加進出現頻率中\n",
    "        # 此步驟完成驗證條件，也就是當freq全部value再度皆為0時，就代表符合條件\n",
    "        # 舉例: s=\"abcda\" p=\"ab\"\n",
    "        # 此時freq = {a:1, b:1, c:0, d:0}，只要比對出現值能將a和b出現頻率相同，即代表為正確的資料\n",
    "        for word in list(p):\n",
    "            freq[word] += 1\n",
    "\n",
    "        # s取到與p相同長度的字串\n",
    "        for word in s[:p_len]:\n",
    "            freq[word] -= 1\n",
    "\n",
    "        # 回傳索引值\n",
    "        ret = []\n",
    "\n",
    "        # 索引值\n",
    "        n = 0\n",
    "        while n <= s_len - p_len:\n",
    "            # 用set只會保留唯一不重複的資料，當freq全部value再度皆為0時，記錄當下索引值\n",
    "            if set(freq.values()) == {0}:\n",
    "                ret.append(n)\n",
    "\n",
    "            # 如果已經到s長度最底，代表沒資料可取就跳出\n",
    "            if n + p_len >= s_len:\n",
    "                break\n",
    "\n",
    "            # 使用SLIDING WINDOW，每前進一格就替換掉之前一格的資料\n",
    "            word = s[n]\n",
    "            freq[word] += 1\n",
    "\n",
    "            word = s[n+p_len]\n",
    "            freq[word] -= 1\n",
    "\n",
    "            n += 1\n",
    "\n",
    "        return ret\n",
    "    \n",
    "# for case output\n",
    "s = Solution()\n",
    "\n",
    "# Case 1 Expected: [0,6]\n",
    "print('Input: s = \"cbaebabacd\", p = \"abc\"')\n",
    "print('Output:', s.findAnagrams(\"cbaebabacd\", \"abc\"))\n",
    "print('Expected:', \"[0,6]\")\n",
    "print()\n",
    "\n",
    "# Case 2 Expected: [0,1,2]\n",
    "print('Input: s = \"abab\", p = \"ab\"')\n",
    "print('Output:', s.findAnagrams(\"abab\", \"ab\"))\n",
    "print('Expected:', \"[0,1,2]\")"
   ]
  },
  {
   "cell_type": "code",
   "execution_count": null,
   "id": "77ff592d",
   "metadata": {},
   "outputs": [],
   "source": []
  }
 ],
 "metadata": {
  "kernelspec": {
   "display_name": "Python 3 (ipykernel)",
   "language": "python",
   "name": "python3"
  },
  "language_info": {
   "codemirror_mode": {
    "name": "ipython",
    "version": 3
   },
   "file_extension": ".py",
   "mimetype": "text/x-python",
   "name": "python",
   "nbconvert_exporter": "python",
   "pygments_lexer": "ipython3",
   "version": "3.10.7"
  }
 },
 "nbformat": 4,
 "nbformat_minor": 5
}
