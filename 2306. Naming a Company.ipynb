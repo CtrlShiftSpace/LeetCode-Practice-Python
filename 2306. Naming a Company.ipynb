{
 "cells": [
  {
   "cell_type": "markdown",
   "id": "a50992d2",
   "metadata": {},
   "source": [
    "**[Question]**\n",
    "\n",
    "You are given an array of strings ideas that represents a list of names to be used in the process of naming a company. The process of naming a company is as follows:\n",
    "\n",
    "Choose 2 distinct names from ideas, call them ideaA and ideaB.\n",
    "Swap the first letters of ideaA and ideaB with each other.\n",
    "If both of the new names are not found in the original ideas, then the name ideaA ideaB (the concatenation of ideaA and ideaB, separated by a space) is a valid company name.\n",
    "Otherwise, it is not a valid name.\n",
    "Return the number of distinct valid names for the company.\n",
    "\n",
    "\n",
    "- Example 1:\n",
    "\n",
    "```\n",
    "Input: ideas = [\"coffee\",\"donuts\",\"time\",\"toffee\"]\n",
    "Output: 6\n",
    "Explanation: The following selections are valid:\n",
    "- (\"coffee\", \"donuts\"): The company name created is \"doffee conuts\".\n",
    "- (\"donuts\", \"coffee\"): The company name created is \"conuts doffee\".\n",
    "- (\"donuts\", \"time\"): The company name created is \"tonuts dime\".\n",
    "- (\"donuts\", \"toffee\"): The company name created is \"tonuts doffee\".\n",
    "- (\"time\", \"donuts\"): The company name created is \"dime tonuts\".\n",
    "- (\"toffee\", \"donuts\"): The company name created is \"doffee tonuts\".\n",
    "Therefore, there are a total of 6 distinct company names.\n",
    "\n",
    "The following are some examples of invalid selections:\n",
    "- (\"coffee\", \"time\"): The name \"toffee\" formed after swapping already exists in the original array.\n",
    "- (\"time\", \"toffee\"): Both names are still the same after swapping and exist in the original array.\n",
    "- (\"coffee\", \"toffee\"): Both names formed after swapping already exist in the original array.\n",
    "\n",
    "```\n",
    "\n",
    "- Example 2:\n",
    "\n",
    "```\n",
    "Input: ideas = [\"lack\",\"back\"]\n",
    "Output: 0\n",
    "Explanation: There are no valid selections. Therefore, 0 is returned.\n",
    "```\n"
   ]
  },
  {
   "cell_type": "markdown",
   "id": "4b253cec",
   "metadata": {},
   "source": [
    "**[Solution]**\n",
    "\n",
    "**嘗試解法**\n",
    "\n",
    "`Time complexity: O(N*M)`\n",
    "\n",
    "`Space complexity: O(N*M)`\n",
    "\n",
    "Acceped 的執行時間為 811 ms"
   ]
  },
  {
   "cell_type": "code",
   "execution_count": 4,
   "id": "1ce17d69",
   "metadata": {},
   "outputs": [],
   "source": [
    "# 題目預設library\n",
    "from typing import List"
   ]
  },
  {
   "cell_type": "code",
   "execution_count": 5,
   "id": "782753ee",
   "metadata": {},
   "outputs": [
    {
     "name": "stdout",
     "output_type": "stream",
     "text": [
      "Input: ideas = [\"coffee\",\"donuts\",\"time\",\"toffee\"]\n",
      "Output: 6\n",
      "Expected: 6\n",
      "\n",
      "Input: ideas = \"lack\",\"back\"]\n",
      "Output: 0\n",
      "Expected: 0\n"
     ]
    }
   ],
   "source": [
    "class Solution:\n",
    "    def distinctNames(self, ideas: List[str]) -> int:\n",
    "        \"\"\"\n",
    "        分類字串群組，key開頭字母順序(0代表a, 1代表b,...)，value儲存該字母開頭的字串list\n",
    "        如apple, ant, bee會放在\n",
    "        {\n",
    "            0: ['pple', 'nt'],\n",
    "            1: ['ee'],\n",
    "            ...\n",
    "        }\n",
    "        \"\"\"\n",
    "        group = {}\n",
    "        for i in range(26):\n",
    "            group[i] = []\n",
    "        \n",
    "        # a的ascii代表值\n",
    "        firstAsciCode = ord('a')\n",
    "        \n",
    "        for idea in ideas:\n",
    "            # 分類字串索引值\n",
    "            idx = ord(idea[0]) - firstAsciCode\n",
    "            group[idx].append(idea[1:])\n",
    "            \n",
    "        ans = 0\n",
    "        for i in range(25):\n",
    "            for j in range(i+1, 26):\n",
    "                iGroup = set(group[i])\n",
    "                jGroup = set(group[j])\n",
    "                iLen = len(group[i])\n",
    "                jLen = len(group[j])\n",
    "                # 資料任一為空時無法進行交換，直接continue\n",
    "                if iLen * jLen <= 0:\n",
    "                    continue\n",
    "                \n",
    "                # 找出交集的數量\n",
    "                itseNum = len(iGroup & jGroup)\n",
    "                # 兩邊各自扣掉交集的數量相乘，由於每一組會產生2個名稱，因此需要再乘上2\n",
    "                ans += 2 * (iLen - itseNum) * (jLen - itseNum)\n",
    "                \n",
    "        return ans\n",
    "            \n",
    "        \n",
    "# for case output\n",
    "s = Solution()\n",
    "\n",
    "# Case 1 Expected: 6\n",
    "print('Input: ideas = [\"coffee\",\"donuts\",\"time\",\"toffee\"]')\n",
    "print('Output:', s.distinctNames([\"coffee\",\"donuts\",\"time\",\"toffee\"]))\n",
    "print('Expected:', 6)\n",
    "print()\n",
    "\n",
    "# Case 2 Expected: 0\n",
    "print('Input: ideas = \"lack\",\"back\"]')\n",
    "print('Output:', s.distinctNames([\"lack\",\"back\"]))\n",
    "print('Expected:', 0)"
   ]
  }
 ],
 "metadata": {
  "kernelspec": {
   "display_name": "Python 3 (ipykernel)",
   "language": "python",
   "name": "python3"
  },
  "language_info": {
   "codemirror_mode": {
    "name": "ipython",
    "version": 3
   },
   "file_extension": ".py",
   "mimetype": "text/x-python",
   "name": "python",
   "nbconvert_exporter": "python",
   "pygments_lexer": "ipython3",
   "version": "3.10.7"
  }
 },
 "nbformat": 4,
 "nbformat_minor": 5
}
