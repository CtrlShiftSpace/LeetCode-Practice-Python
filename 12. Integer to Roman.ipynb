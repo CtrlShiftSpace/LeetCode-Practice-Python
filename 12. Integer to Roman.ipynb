{
 "cells": [
  {
   "cell_type": "markdown",
   "id": "07220556",
   "metadata": {},
   "source": [
    "**[Question]**\n",
    "\n",
    "Roman numerals are represented by seven different symbols: I, V, X, L, C, D and M.\n",
    "\n",
    "Symbol       Value\n",
    "I             1\n",
    "V             5\n",
    "X             10\n",
    "L             50\n",
    "C             100\n",
    "D             500\n",
    "M             1000\n",
    "For example, 2 is written as II in Roman numeral, just two one's added together. 12 is written as XII, which is simply X + II. The number 27 is written as XXVII, which is XX + V + II.\n",
    "\n",
    "Roman numerals are usually written largest to smallest from left to right. However, the numeral for four is not IIII. Instead, the number four is written as IV. Because the one is before the five we subtract it making four. The same principle applies to the number nine, which is written as IX. There are six instances where subtraction is used:\n",
    "\n",
    "I can be placed before V (5) and X (10) to make 4 and 9. \n",
    "X can be placed before L (50) and C (100) to make 40 and 90. \n",
    "C can be placed before D (500) and M (1000) to make 400 and 900.\n",
    "Given an integer, convert it to a roman numeral.\n",
    "\n",
    "`Time complexity: O(N)`\n",
    "\n",
    "`Space complexity: O(N)  // 會隨著羅馬數字增加`"
   ]
  },
  {
   "cell_type": "markdown",
   "id": "a4a4d231",
   "metadata": {},
   "source": [
    "**[Solution]**"
   ]
  },
  {
   "cell_type": "code",
   "execution_count": 5,
   "id": "e7708d86",
   "metadata": {},
   "outputs": [
    {
     "name": "stdout",
     "output_type": "stream",
     "text": [
      "Input: s=\"3\"\n",
      "Output: III\n",
      "Expected: III\n",
      "\n",
      "Input: s=\"58\"\n",
      "Output: LVIII\n",
      "Expected: LVIII\n",
      "\n",
      "Input: s=\"1994\"\n",
      "Output: MCMXCIV\n",
      "Expected: MCMXCIV\n"
     ]
    }
   ],
   "source": [
    "class Solution:\n",
    "    def intToRoman(self, num: int) -> str:\n",
    "        # 定義羅馬數字所代表的數值，必須由大到小依序列出，否則後續運算時會有問題\n",
    "        ref = {\n",
    "            'M': 1000,\n",
    "            'CM': 900,\n",
    "            'D': 500,\n",
    "            'CD': 400,\n",
    "            'C': 100,\n",
    "            'XC': 90,\n",
    "            'L': 50,\n",
    "            'XL': 40,\n",
    "            'X': 10,\n",
    "            'IX': 9,\n",
    "            'V': 5,\n",
    "            'IV': 4,\n",
    "            'I': 1\n",
    "        }\n",
    "\n",
    "        # 回傳的羅馬數字\n",
    "        res = ''\n",
    "\n",
    "        for s, v in ref.items():\n",
    "            # 除法後的商值，代表次數\n",
    "            t = num // v\n",
    "            # 如果商值不為0，則append對應數量的字串\n",
    "            if t > 0:\n",
    "                res += s * t\n",
    "            # 餘數\n",
    "            num %= v\n",
    "\n",
    "        return res\n",
    "    \n",
    "\n",
    "# for case output\n",
    "s = Solution()\n",
    "\n",
    "# Case 1 Expected: III\n",
    "print('Input: s=\"3\"')\n",
    "print('Output:', s.intToRoman(3))\n",
    "print('Expected:', \"III\")\n",
    "print()\n",
    "\n",
    "# Case 2 Expected: LVIII\n",
    "print('Input: s=\"58\"')\n",
    "print('Output:', s.intToRoman(58))\n",
    "print('Expected:', \"LVIII\")\n",
    "print()\n",
    "\n",
    "# Case 3 Expected: MCMXCIV\n",
    "print('Input: s=\"1994\"')\n",
    "print('Output:', s.intToRoman(1994))\n",
    "print('Expected:', \"MCMXCIV\")"
   ]
  },
  {
   "cell_type": "code",
   "execution_count": null,
   "id": "21a60122",
   "metadata": {},
   "outputs": [],
   "source": []
  }
 ],
 "metadata": {
  "kernelspec": {
   "display_name": "Python 3 (ipykernel)",
   "language": "python",
   "name": "python3"
  },
  "language_info": {
   "codemirror_mode": {
    "name": "ipython",
    "version": 3
   },
   "file_extension": ".py",
   "mimetype": "text/x-python",
   "name": "python",
   "nbconvert_exporter": "python",
   "pygments_lexer": "ipython3",
   "version": "3.10.7"
  }
 },
 "nbformat": 4,
 "nbformat_minor": 5
}
