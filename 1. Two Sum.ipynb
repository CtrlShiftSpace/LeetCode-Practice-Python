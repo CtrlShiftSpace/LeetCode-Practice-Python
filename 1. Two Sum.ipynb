{
 "cells": [
  {
   "cell_type": "markdown",
   "id": "31bfbaff",
   "metadata": {},
   "source": [
    "**[Question]**\n",
    "\n",
    "Given an array of integers `nums` and an integer `target`, return indices of the two numbers such that they add up to `target`.\n",
    "\n",
    "You may assume that each input would have **exactly one solution**, and you may not use the same element twice.\n",
    "\n",
    "You can return the answer in any order.\n",
    "\n",
    "\n",
    "* Example 1:\n",
    "\n",
    "    Input: nums = [2,7,11,15], target = 9  \n",
    "    Output: [0,1]  \n",
    "    Explanation: Because nums[0] + nums[1] == 9, we return [0, 1].  \n",
    "\n",
    "* Example 2:   \n",
    "\n",
    "    Input: nums = [3,2,4], target = 6  \n",
    "    Output: [1,2]\n",
    "    "
   ]
  },
  {
   "cell_type": "code",
   "execution_count": 1,
   "id": "1a597f89",
   "metadata": {},
   "outputs": [],
   "source": [
    "# 題目預設library\n",
    "from typing import List"
   ]
  },
  {
   "cell_type": "markdown",
   "id": "c1fe126b",
   "metadata": {},
   "source": [
    "**[Solution]**"
   ]
  },
  {
   "cell_type": "code",
   "execution_count": 4,
   "id": "4e57f147",
   "metadata": {},
   "outputs": [],
   "source": [
    "class Solution:\n",
    "    def twoSum(self, nums: List[int], target: int) -> List[int]:\n",
    "        # key number\n",
    "        n = 0\n",
    "        num_keys = {}\n",
    "        for num in nums:\n",
    "            # 與目標的差值\n",
    "            offset = target - num\n",
    "            if offset in num_keys:\n",
    "                return [num_keys[offset], n]\n",
    "            num_keys[num] = n\n",
    "            n += 1\n",
    "        \n",
    "        return None"
   ]
  },
  {
   "cell_type": "code",
   "execution_count": 5,
   "id": "b13ea437",
   "metadata": {},
   "outputs": [
    {
     "name": "stdout",
     "output_type": "stream",
     "text": [
      "[0, 1]\n"
     ]
    }
   ],
   "source": [
    "# 測試\n",
    "nums = [3, 3]\n",
    "target = 6\n",
    "\n",
    "s = Solution()\n",
    "print(s.twoSum(nums, target))"
   ]
  },
  {
   "cell_type": "code",
   "execution_count": null,
   "id": "85d260d1",
   "metadata": {},
   "outputs": [],
   "source": []
  }
 ],
 "metadata": {
  "kernelspec": {
   "display_name": "Python 3 (ipykernel)",
   "language": "python",
   "name": "python3"
  },
  "language_info": {
   "codemirror_mode": {
    "name": "ipython",
    "version": 3
   },
   "file_extension": ".py",
   "mimetype": "text/x-python",
   "name": "python",
   "nbconvert_exporter": "python",
   "pygments_lexer": "ipython3",
   "version": "3.10.7"
  }
 },
 "nbformat": 4,
 "nbformat_minor": 5
}
