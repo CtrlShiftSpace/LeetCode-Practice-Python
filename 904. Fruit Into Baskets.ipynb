{
 "cells": [
  {
   "cell_type": "markdown",
   "id": "7be0fb78",
   "metadata": {},
   "source": [
    "**[Question]**\n",
    "\n",
    "You are visiting a farm that has a single row of fruit trees arranged from left to right. The trees are represented by an integer array fruits where fruits[i] is the type of fruit the ith tree produces.\n",
    "\n",
    "You want to collect as much fruit as possible. However, the owner has some strict rules that you must follow:\n",
    "\n",
    "- You only have two baskets, and each basket can only hold a single type of fruit. There is no limit on the amount of fruit each basket can hold.\n",
    "- Starting from any tree of your choice, you must pick exactly one fruit from every tree (including the start tree) while moving to the right. The picked fruits must fit in one of your baskets.\n",
    "- Once you reach a tree with fruit that cannot fit in your baskets, you must stop.\n",
    "\n",
    "Given the integer array fruits, return the maximum number of fruits you can pick.\n",
    "\n",
    "\n",
    "- Example 1:\n",
    "```\n",
    "Input: fruits = [1,2,1]\n",
    "Output: 3\n",
    "Explanation: We can pick from all 3 trees.\n",
    "Example 2:\n",
    "```\n",
    "\n",
    "- Input: fruits = [0,1,2,2]\n",
    "```\n",
    "Output: 3\n",
    "Explanation: We can pick from trees [1,2,2].\n",
    "If we had started at the first tree, we would only pick from trees [0,1].\n",
    "Example 3:\n",
    "```\n",
    "\n",
    "- Input: fruits = [1,2,3,2,2]\n",
    "```\n",
    "Output: 4\n",
    "Explanation: We can pick from trees [2,3,2,2].\n",
    "If we had started at the first tree, we would only pick from trees [1,2].\n",
    "```\n"
   ]
  },
  {
   "cell_type": "markdown",
   "id": "12172fa2",
   "metadata": {},
   "source": [
    "**[Solution]**\n",
    "\n",
    "**嘗試解法1**\n",
    "\n",
    "`Time complexity: O(N)`\n",
    "\n",
    "`Space complexity: O(1)`"
   ]
  },
  {
   "cell_type": "code",
   "execution_count": 2,
   "id": "865e7242",
   "metadata": {},
   "outputs": [],
   "source": [
    "# 題目預設library\n",
    "from typing import List"
   ]
  },
  {
   "cell_type": "code",
   "execution_count": 4,
   "id": "6d4ab0e2",
   "metadata": {},
   "outputs": [
    {
     "name": "stdout",
     "output_type": "stream",
     "text": [
      "Input: fruits = [1,2,1]\n",
      "Output: 3\n",
      "Expected: 3\n",
      "\n",
      "Input: fruits = [0,1,2,2]\n",
      "Output: 3\n",
      "Expected: 3\n",
      "\n",
      "Input: fruits = [1,2,3,2,2]\n",
      "Output: 4\n",
      "Expected: 4\n",
      "\n"
     ]
    }
   ],
   "source": [
    "class Solution:\n",
    "    def totalFruit(self, fruits: List[int]) -> int:\n",
    "        tree_len = len(fruits)\n",
    "        idx_ptr = 0\n",
    "        break_ptr = 0\n",
    "        pick = {}\n",
    "        # 現在手裡的水果\"種類\"數量\n",
    "        cur_kind_size = 0\n",
    "        max_tree = 0\n",
    "\n",
    "        while idx_ptr < tree_len and break_ptr < tree_len:\n",
    "            if cur_kind_size > 2:\n",
    "                pass_fruit = fruits[idx_ptr]\n",
    "                pick[pass_fruit] -= 1\n",
    "                # 如果當前籃子中已沒有該水果種類時，就從種類清單移除掉\n",
    "                if pick[pass_fruit] == 0:\n",
    "                    cur_kind_size -= 1\n",
    "                idx_ptr += 1\n",
    "            else:\n",
    "                next_fruit = fruits[break_ptr]\n",
    "                # 如果水果是當前籃子中沒有的種類時，就加進去\n",
    "                if not next_fruit in pick:\n",
    "                    pick[next_fruit] = 0\n",
    "                if pick[next_fruit] == 0:\n",
    "                    cur_kind_size += 1\n",
    "\n",
    "                pick[next_fruit] += 1\n",
    "                break_ptr += 1\n",
    "\n",
    "            # 所經過的樹數量\n",
    "            if cur_kind_size > 2:\n",
    "                tree_cnt = break_ptr - idx_ptr - 1\n",
    "            else:\n",
    "                tree_cnt = break_ptr - idx_ptr\n",
    "            # 刷新最大樹數量\n",
    "            if max_tree < tree_cnt:\n",
    "                max_tree = tree_cnt\n",
    "                \n",
    "\n",
    "        return max_tree\n",
    "    \n",
    "# for case output\n",
    "s = Solution()\n",
    "\n",
    "# Case 1 Expected: 3\n",
    "print('Input: fruits = [1,2,1]')\n",
    "print('Output:', s.totalFruit([1,2,1]))\n",
    "print('Expected:', \"3\")\n",
    "print()\n",
    "\n",
    "# Case 2 Expected: 3\n",
    "print('Input: fruits = [0,1,2,2]')\n",
    "print('Output:', s.totalFruit([0,1,2,2]))\n",
    "print('Expected:', \"3\")\n",
    "print()\n",
    "\n",
    "# Case 3 Expected: 4\n",
    "print('Input: fruits = [1,2,3,2,2]')\n",
    "print('Output:', s.totalFruit([1,2,3,2,2]))\n",
    "print('Expected:', \"4\")\n",
    "print()"
   ]
  },
  {
   "cell_type": "code",
   "execution_count": null,
   "id": "344e7891",
   "metadata": {},
   "outputs": [],
   "source": []
  }
 ],
 "metadata": {
  "kernelspec": {
   "display_name": "Python 3 (ipykernel)",
   "language": "python",
   "name": "python3"
  },
  "language_info": {
   "codemirror_mode": {
    "name": "ipython",
    "version": 3
   },
   "file_extension": ".py",
   "mimetype": "text/x-python",
   "name": "python",
   "nbconvert_exporter": "python",
   "pygments_lexer": "ipython3",
   "version": "3.10.7"
  }
 },
 "nbformat": 4,
 "nbformat_minor": 5
}
