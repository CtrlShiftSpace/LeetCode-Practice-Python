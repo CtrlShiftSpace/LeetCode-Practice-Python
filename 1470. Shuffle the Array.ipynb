{
 "cells": [
  {
   "cell_type": "markdown",
   "id": "d945afa4",
   "metadata": {},
   "source": [
    "**[Question]**\n",
    "\n",
    "Given the array `nums` consisting of `2n` elements in the form `[x1,x2,...,xn,y1,y2,...,yn]`.\n",
    "\n",
    "Return the array in the form `[x1,y1,x2,y2,...,xn,yn]`.\n",
    "\n",
    "- Example 1:\n",
    "\n",
    "```\n",
    "Input: nums = [2,5,1,3,4,7], n = 3\n",
    "Output: [2,3,5,4,1,7] \n",
    "Explanation: Since x1=2, x2=5, x3=1, y1=3, y2=4, y3=7 then the answer is [2,3,5,4,1,7].\n",
    "```\n",
    "\n",
    "- Example 2:\n",
    "```\n",
    "Input: nums = [1,2,3,4,4,3,2,1], n = 4\n",
    "Output: [1,4,2,3,3,2,4,1]\n",
    "```\n",
    "\n",
    "- Example 3:\n",
    "```\n",
    "Input: nums = [1,1,2,2], n = 2\n",
    "Output: [1,2,1,2]\n",
    "```\n"
   ]
  },
  {
   "cell_type": "markdown",
   "id": "e925f983",
   "metadata": {},
   "source": [
    "**[Solution]**"
   ]
  },
  {
   "cell_type": "markdown",
   "id": "39f0236d",
   "metadata": {},
   "source": [
    "**嘗試解法**\n",
    "\n",
    "`Time complexity: O(N)`\n",
    "\n",
    "`Space complexity: O(N)`\n",
    "\n",
    "結果為：Accepted"
   ]
  },
  {
   "cell_type": "code",
   "execution_count": 3,
   "id": "7253bc04",
   "metadata": {},
   "outputs": [],
   "source": [
    "# 題目預設library\n",
    "from typing import List"
   ]
  },
  {
   "cell_type": "code",
   "execution_count": 6,
   "id": "b1002073",
   "metadata": {},
   "outputs": [
    {
     "name": "stdout",
     "output_type": "stream",
     "text": [
      "Input: nums = [2,5,1,3,4,7], n = 3\n",
      "Output: [2, 3, 5, 4, 1, 7]\n",
      "Expected: [2, 3, 5, 4, 1, 7]\n",
      "\n",
      "Input: nums = [1,2,3,4,4,3,2,1], n = 4\n",
      "Output: [1, 4, 2, 3, 3, 2, 4, 1]\n",
      "Expected: [1, 4, 2, 3, 3, 2, 4, 1]\n",
      "\n",
      "Input: nums = [1,1,2,2], n = 2\n",
      "Output: [1, 2, 1, 2]\n",
      "Expected: [1, 2, 1, 2]\n"
     ]
    }
   ],
   "source": [
    "class Solution:\n",
    "    def shuffle(self, nums: List[int], n: int) -> List[int]:\n",
    "        shf = [] \n",
    "\n",
    "        for i in range(n):\n",
    "            # x1, x2, ... xn\n",
    "            # (i=0, i=1, ..., i=n-1)\n",
    "            shf.append(nums[i])\n",
    "            # y1, y2, ... yn\n",
    "            # (i=n, i=n+1, ..., i=2n-1)\n",
    "            shf.append(nums[i+n])\n",
    "\n",
    "        return shf\n",
    "    \n",
    "    \n",
    "# for case output\n",
    "s = Solution()\n",
    "\n",
    "# Case 1 Expected: [2,3,5,4,1,7]\n",
    "print('Input: nums = [2,5,1,3,4,7], n = 3')\n",
    "print('Output:', s.shuffle([2,5,1,3,4,7], 3))\n",
    "print('Expected:', [2,3,5,4,1,7])\n",
    "print()\n",
    "\n",
    "# Case 2 Expected: [1,4,2,3,3,2,4,1]\n",
    "print('Input: nums = [1,2,3,4,4,3,2,1], n = 4')\n",
    "print('Output:', s.shuffle([1,2,3,4,4,3,2,1], 4))\n",
    "print('Expected:', [1,4,2,3,3,2,4,1])\n",
    "print()\n",
    "\n",
    "# Case 3 Expected: [1,2,1,2]\n",
    "print('Input: nums = [1,1,2,2], n = 2')\n",
    "print('Output:', s.shuffle([1,1,2,2], 2))\n",
    "print('Expected:', [1,2,1,2])"
   ]
  }
 ],
 "metadata": {
  "kernelspec": {
   "display_name": "Python 3 (ipykernel)",
   "language": "python",
   "name": "python3"
  },
  "language_info": {
   "codemirror_mode": {
    "name": "ipython",
    "version": 3
   },
   "file_extension": ".py",
   "mimetype": "text/x-python",
   "name": "python",
   "nbconvert_exporter": "python",
   "pygments_lexer": "ipython3",
   "version": "3.10.7"
  }
 },
 "nbformat": 4,
 "nbformat_minor": 5
}
